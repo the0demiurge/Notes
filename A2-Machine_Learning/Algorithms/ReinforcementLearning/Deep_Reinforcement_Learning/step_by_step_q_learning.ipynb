{
 "cells": [
  {
   "cell_type": "markdown",
   "metadata": {},
   "source": [
    "# painless q learning \n",
    "机器人寻路，目标为走到户外（5）\n",
    "\n",
    "原文链接：http://mnemstudio.org/path-finding-q-learning-tutorial.htm\n",
    "\n",
    "地图：\n",
    "\n",
    "![image.png](http://mnemstudio.org/ai/path/images/agent_clip_image002.gif)\n",
    "\n",
    "图模型：\n",
    "\n",
    "![image.png](http://mnemstudio.org/ai/path/images/map1a.gif)\n",
    "\n",
    "回报的矩阵表示：\n",
    "\n",
    "![r](http://mnemstudio.org/ai/path/images/r_matrix1.gif)"
   ]
  },
  {
   "cell_type": "markdown",
   "metadata": {},
   "source": [
    "The Q-Learning algorithm goes as follows:\n",
    "\n",
    "1. Set the gamma parameter, and environment rewards in matrix R.\n",
    "\n",
    "2. Initialize matrix Q to zero.\n",
    "\n",
    "3. For each episode:\n",
    "\n",
    "    Select a random initial state.\n",
    "\n",
    "    Do While the goal state hasn't been reached.\n",
    "\n",
    "    + Select one among all possible actions for the current state.\n",
    "    + Using this possible action, consider going to the next state.\n",
    "    + Get maximum Q value for this next state based on all possible actions.\n",
    "    + Compute: Q(state, action) = R(state, action) + Gamma \\* Max[Q(next state, all actions)]\n",
    "    + Set the next state as the current state.\n",
    "    \n",
    "    \n",
    "    End Do\n",
    "\n",
    "End For"
   ]
  },
  {
   "cell_type": "code",
   "execution_count": 1,
   "metadata": {
    "collapsed": true
   },
   "outputs": [],
   "source": [
    "import numpy as np\n",
    "import random"
   ]
  },
  {
   "cell_type": "code",
   "execution_count": 2,
   "metadata": {},
   "outputs": [
    {
     "name": "stdout",
     "output_type": "stream",
     "text": [
      "q=\n",
      "[[ 0.  0.  0.  0.  0.  0.]\n",
      " [ 0.  0.  0.  0.  0.  0.]\n",
      " [ 0.  0.  0.  0.  0.  0.]\n",
      " [ 0.  0.  0.  0.  0.  0.]\n",
      " [ 0.  0.  0.  0.  0.  0.]\n",
      " [ 0.  0.  0.  0.  0.  0.]]\n",
      "\n",
      "r=\n",
      "[[ -1  -1  -1  -1   0  -1]\n",
      " [ -1  -1  -1   0  -1 100]\n",
      " [ -1  -1  -1   0  -1  -1]\n",
      " [ -1   0   0  -1   0  -1]\n",
      " [  0  -1  -1   0  -1 100]\n",
      " [ -1   0  -1  -1   0 100]]\n",
      "\n",
      "gamma= 0.8\n"
     ]
    }
   ],
   "source": [
    "q = np.zeros([6,6])\n",
    "r = np.array([[-1,-1,-1,-1,0,-1],\n",
    "            [-1,-1,-1,0,-1,100],\n",
    "            [-1,-1,-1,0,-1,-1],\n",
    "            [-1,0,0,-1,0,-1],\n",
    "            [0,-1,-1,0,-1,100],\n",
    "            [-1,0,-1,-1,0,100],\n",
    "           ])\n",
    "print('q=', q, '', 'r=', r, sep='\\n')\n",
    "gamma = 0.8\n",
    "print('\\ngamma=', gamma)"
   ]
  },
  {
   "cell_type": "markdown",
   "metadata": {},
   "source": [
    "Look at the second row (state 1) of matrix R.  There are two possible actions for the current state 1: go to state 3, or go to state 5. By random selection, we select to go to 5 as our action."
   ]
  },
  {
   "cell_type": "markdown",
   "metadata": {},
   "source": [
    "Now let's imagine what would happen if our agent were in state 5.  Look at the sixth row of the reward matrix R (i.e. state 5).  It has 3 possible actions: go to state 1, 4 or 5.\n",
    "\n",
    "Q(state, action) = R(state, action) + Gamma \\* Max[Q(next state, all actions)]\n",
    "\n",
    "Q(1, 5) = R(1, 5) + 0.8 \\* Max[Q(5, 1), Q(5, 4), Q(5, 5)] = 100 + 0.8 \\* 0 = 100"
   ]
  },
  {
   "cell_type": "markdown",
   "metadata": {},
   "source": [
    "Since matrix Q is still initialized to zero, Q(5, 1), Q(5, 4), Q(5, 5), are all zero.  The result of this computation for Q(1, 5) is 100 because of the instant reward from R(5, 1).\n",
    "\n",
    "The next state, 5, now becomes the current state.  Because 5 is the goal state, we've finished one episode.  Our agent's brain now contains an updated matrix Q as:\n",
    "![image.png](http://mnemstudio.org/ai/path/images/q_matrix2.gif)"
   ]
  },
  {
   "cell_type": "markdown",
   "metadata": {},
   "source": [
    "For the next episode, we start with a randomly chosen initial state.  This time, we have state 3 as our initial state.\n",
    "\n",
    "Look at the fourth row of matrix R; it has 3 possible actions: go to state 1, 2 or 4.  By random selection, we select to go to state 1 as our action.\n",
    "\n",
    "Now we imagine that we are in state 1.  Look at the second row of reward matrix R (i.e. state 1).  It has 2 possible actions: go to state 3 or state 5.  Then, we compute the Q value:\n",
    "\n",
    "$Q(state, action) = R(state, action) + \\gamma \\times Max[Q(next state, all actions)]$\n",
    "\n",
    "$Q(1, 5) = R(1, 5) + 0.8 \\times Max[Q(1, 2), Q(1, 5)] = 0 + 0.8 \\times Max(0, 100) = 80$\n",
    "\n",
    "We use the updated matrix Q from the last episode.  Q(1, 3) = 0 and Q(1, 5) = 100.  The result of the computation is Q(3, 1) = 80 because the reward is zero.  The matrix Q becomes:\n",
    "![image.png](http://mnemstudio.org/ai/path/images/q_matrix3.gif)"
   ]
  },
  {
   "cell_type": "markdown",
   "metadata": {},
   "source": [
    "The next state, 1, now becomes the current state.  We repeat the inner loop of the Q learning algorithm because state 1 is not the goal state."
   ]
  },
  {
   "cell_type": "markdown",
   "metadata": {},
   "source": [
    "$Q(state, action) = R(state, action) + \\gamma \\times Max[Q(next state, all actions)]$"
   ]
  },
  {
   "cell_type": "markdown",
   "metadata": {},
   "source": [
    "Algorithm to utilize the Q matrix:\n",
    "\n",
    "1. Set current state = initial state.\n",
    "\n",
    "2. From current state, find the action with the highest Q value.\n",
    "\n",
    "3. Set current state = next state.\n",
    "\n",
    "4. Repeat Steps 2 and 3 until current state = goal state.\n",
    "\n",
    "The algorithm above will return the sequence of states from the initial state to the goal state.\n",
    "\n"
   ]
  },
  {
   "cell_type": "markdown",
   "metadata": {},
   "source": [
    "# 多次运行下面的cell可以看每次迭代所得到的Q表更新效果\n",
    "采取的更新方案为$\\epsilon$-greedy,可以通过调整$\\epsilon$实现或上面的greedy，或随机采样。\n",
    "\n",
    "For epoch in max_epoches:\n",
    "\n",
    "1. 随机选取一个state\n",
    "2. 在选取的state下选定一个可行的动作（在本例中，不可行的动作回报为\"-1\")\n",
    "3. 按照公式 $Q(state, action) = R(state, action) + \\gamma \\times Max[Q(next state, all actions)]$计算Q值\n",
    "4. 采取2中选定的动作，将state更新到下一个state\n",
    "5. 如果运动到终点则中断\n",
    "\n",
    "End For"
   ]
  },
  {
   "cell_type": "markdown",
   "metadata": {},
   "source": [
    "# 选取下个动作的方法：greedy、random、$\\epsilon$-greedy"
   ]
  },
  {
   "cell_type": "markdown",
   "metadata": {},
   "source": [
    "以\\epsilon概率采取贪心算法\n",
    "+ \\epsilon = 1: 贪心\n",
    "+ \\epsilon = 0: 随机"
   ]
  },
  {
   "cell_type": "code",
   "execution_count": 3,
   "metadata": {
    "collapsed": true
   },
   "outputs": [],
   "source": [
    "def randomly_select_act(state):\n",
    "    # 随机选定一个正回报的动作\n",
    "    flag = True\n",
    "    while flag:\n",
    "        action = np.random.randint(0, 6)\n",
    "        if r[state, action] >= 0:\n",
    "            flag = False\n",
    "    return action\n",
    "\n",
    "def greedly_select_act(state):\n",
    "    # 贪心选取下个动作\n",
    "    actions = list(q[state, :])\n",
    "    max_q = max(actions)\n",
    "    max_actioin_index = list()\n",
    "    for i, act in enumerate(actions):\n",
    "        if act >= max_q:\n",
    "            max_actioin_index.append(i)\n",
    "    return random.sample(max_actioin_index, 1)[0]\n",
    "\n",
    "def e_greedy(state, e):\n",
    "    if random.random() < e:\n",
    "        return greedly_select_act(state)\n",
    "    else:\n",
    "        return randomly_select_act(state)"
   ]
  },
  {
   "cell_type": "markdown",
   "metadata": {},
   "source": [
    "For the next episode, we start with a randomly chosen initial state.  This time, we have state 3 as our initial state.\n",
    "\n",
    "Look at the fourth row of matrix R; it has 3 possible actions: go to state 1, 2 or 4.  By random selection, we select to go to state 1 as our action.\n",
    "\n",
    "Now we imagine that we are in state 1.  Look at the second row of reward matrix R (i.e. state 1).  It has 2 possible actions: go to state 3 or state 5.  Then, we compute the Q value:\n",
    "\n",
    "**距离终点很近，Max[Q(next state, all actions)]就会很大**\n",
    "\n",
    "$Q(state, action) = R(state, action) + \\gamma \\times Max[Q(next state, all actions)]$\n",
    "\n",
    "$Q(1, 5) = R(1, 5) + 0.8 \\times Max[Q(1, 2), Q(1, 5)] = 0 + 0.8 \\times Max(0, 100) = 80$\n",
    "\n",
    "We use the updated matrix Q from the last episode.  Q(1, 3) = 0 and Q(1, 5) = 100.  The result of the computation is Q(3, 1) = 80 because the reward is zero.  The matrix Q becomes:\n",
    "![image.png](http://mnemstudio.org/ai/path/images/q_matrix3.gif)"
   ]
  },
  {
   "cell_type": "markdown",
   "metadata": {},
   "source": [
    "# 一个episode："
   ]
  },
  {
   "cell_type": "code",
   "execution_count": 83,
   "metadata": {
    "scrolled": true
   },
   "outputs": [
    {
     "name": "stdout",
     "output_type": "stream",
     "text": [
      "ϵ: 1\n",
      "本次epoch运动路径：\n",
      "5, \n",
      " [[   0.    0.    0.    0.   80.    0.]\n",
      " [   0.    0.    0.   64.    0.  100.]\n",
      " [   0.    0.    0.   64.    0.    0.]\n",
      " [   0.   80.   51.    0.   80.    0.]\n",
      " [  64.    0.    0.   64.    0.  100.]\n",
      " [   0.    0.    0.    0.    0.    0.]]\n"
     ]
    }
   ],
   "source": [
    "epsilon = 1\n",
    "print('ϵ:', epsilon)\n",
    "\n",
    "print(\"本次epoch运动路径：\")\n",
    "state = np.random.randint(0,6)\n",
    "\n",
    "for i in range(200):\n",
    "    print(state, end=', ')\n",
    "    if state == 5:\n",
    "        break\n",
    "    action = e_greedy(state, epsilon)\n",
    "    action = randomly_select_act(state)\n",
    "    \n",
    "    q[state, action] = round(r[state, action] + gamma * max(q[action, :]))\n",
    "    state = action\n",
    "\n",
    "# 一个episode：\n",
    "print('\\n',q)    "
   ]
  },
  {
   "cell_type": "markdown",
   "metadata": {},
   "source": [
    "# 使用训练得到的Q表解题："
   ]
  },
  {
   "cell_type": "code",
   "execution_count": 84,
   "metadata": {},
   "outputs": [
    {
     "name": "stdout",
     "output_type": "stream",
     "text": [
      "请输入整数初始状态（0-5）：2\n",
      "行走路径为：\n",
      "2, 3, 1, 5, "
     ]
    }
   ],
   "source": [
    "state = input('请输入整数初始状态（0-5）：')\n",
    "assert int(state) >= 0 and int(state) <= 5, '请输入整数初始状态（0-5）'\n",
    "state = int(state)\n",
    "print('行走路径为：')\n",
    "for i in range(200):\n",
    "    print(state, end=', ')\n",
    "    if state == 5:\n",
    "        break\n",
    "    action = greedly_select_act(state)\n",
    "    state = action"
   ]
  },
  {
   "cell_type": "markdown",
   "metadata": {},
   "source": [
    "# 地图：\n",
    "![image.png](http://mnemstudio.org/ai/path/images/modeling_environment_clip_image002a.gif)"
   ]
  }
 ],
 "metadata": {
  "kernelspec": {
   "display_name": "Python [conda root]",
   "language": "python",
   "name": "conda-root-py"
  },
  "language_info": {
   "codemirror_mode": {
    "name": "ipython",
    "version": 3
   },
   "file_extension": ".py",
   "mimetype": "text/x-python",
   "name": "python",
   "nbconvert_exporter": "python",
   "pygments_lexer": "ipython3",
   "version": "3.6.4"
  }
 },
 "nbformat": 4,
 "nbformat_minor": 2
}
