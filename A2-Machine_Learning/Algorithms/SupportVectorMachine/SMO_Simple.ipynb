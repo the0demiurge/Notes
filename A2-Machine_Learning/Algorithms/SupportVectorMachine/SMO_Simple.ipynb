{
 "cells": [
  {
   "cell_type": "markdown",
   "metadata": {},
   "source": [
    "# SMO Simple\n",
    "The \"Simple\" means randomly choose lagrange complixier $\\alpha_i$ and $\\alpha_j$"
   ]
  },
  {
   "cell_type": "code",
   "execution_count": 1,
   "metadata": {
    "collapsed": true
   },
   "outputs": [],
   "source": [
    "import numpy as np\n",
    "import pylab\n",
    "import matplotlib.patches as mpatches\n",
    "import random\n",
    "\n",
    "\n",
    "pylab.ion()"
   ]
  },
  {
   "cell_type": "markdown",
   "metadata": {},
   "source": [
    "Synthesised data -- decision boundary:\n",
    "\n",
    "$x + 0.3 y = 0.1$"
   ]
  },
  {
   "cell_type": "code",
   "execution_count": 2,
   "metadata": {},
   "outputs": [
    {
     "data": {
      "text/plain": [
       "<matplotlib.legend.Legend at 0x7f995bc58320>"
      ]
     },
     "execution_count": 2,
     "metadata": {},
     "output_type": "execute_result"
    },
    {
     "data": {
      "image/png": "[encoded data removed]",
      "text/plain": [
       "<matplotlib.figure.Figure at 0x7f995e2c0048>"
      ]
     },
     "metadata": {},
     "output_type": "display_data"
    }
   ],
   "source": [
    "xa = np.random.randn(100, 2)\n",
    "xb = np.random.randn(600, 2)\n",
    "xc = np.random.randn(300, 2)\n",
    "xa[:, 1] = xa[:, 1] * 3 + 9\n",
    "xb[:, 0] = xb[:, 0] * 1 - 6\n",
    "xb[:, 1] = xb[:, 1] * 2 - 6\n",
    "xc = xc * 3\n",
    "x = np.vstack([xa,xb,xc])\n",
    "y = np.array(list(map(lambda x: 1 if x.dot(np.array([9, -4])) + 9 > 0 else -1, x)))\n",
    "NUM_CLASSIFY = 2\n",
    "NUM_DATA = 1000\n",
    "C = 0\n",
    "i, j = 0, 1\n",
    "\n",
    "for i, j in zip(x, y):\n",
    "    pylab.plot(i[0], i[1], '.', color='r' if j > 0 else 'b')\n",
    "patch1 = mpatches.Patch(color='r', label='+1')\n",
    "patch2 = mpatches.Patch(color='b', label='-1')\n",
    "pylab.legend(handles=[patch1, patch2])"
   ]
  },
  {
   "cell_type": "markdown",
   "metadata": {},
   "source": [
    "# SMO\n",
    "\n",
    "## Optimize $a_j$\n",
    "\n",
    "$a_j := aj - \\frac{y^{(j)}(E_i-E_j)}{\\eta}$\n",
    "\n",
    "where\n",
    "\n",
    "$E_k = f(x^{(k)}) - y^{(k)}$\n",
    "\n",
    "$\\eta = 2 x^{(i)}\\bullet x^{(j)} - x^{(i)}\\bullet x^{(i)} - x^{(j)}\\bullet x^{(j)} $\n",
    "\n",
    "## Clip $a_j$\n",
    "\n",
    "$If y^{(i)} \\neq y^{(j)}$, $L=max(0, a_j - a_i)$, $H = min(C, C + a_j - a_i)$\n",
    "\n",
    "$If y^{(i)} = y^{(j)}$, $L=max(0, a_i + a_j - C)$, $H = min(C, a_i + a_j)$\n",
    "\n",
    "## $a_i$\n",
    "$a_i:=a_i+y^{(i)}y^{(j)}(a_j^{(old)}-a_j)$\n",
    "\n",
    "## $b$\n",
    "$b$ is optimized refering to Machine Learning (Zhou Zhihua, (6.18) P125), Where $S$ is subscript of support vector, and we choose the final $i$ and $j$.\n",
    "\n",
    "$b = \\frac{1}{|S|}\\sum\\limits_{s\\in S}{(1/y_s-\\sum\\limits_{k\\in S}\\alpha_ky_k x_k \\bullet x_s)}$\n",
    "\n",
    "or\n",
    "\n",
    "$b_1 = b - E_i - y{(i)}(\\alpha_i - \\alpha_i^{(old)})x^{(i)}\\bullet x^{(i)} - y^{(j)}(\\alpha_j-\\alpha_j^{(old)}) x^{(i)}\\bullet x^{(j)}$\n",
    "\n",
    "$b_2 = b - E_j - y{(i)}(\\alpha_i - \\alpha_i^{(old)})x^{(i)}\\bullet x^{(j)} - y^{(j)}(\\alpha_j-\\alpha_j^{(old)}) x^{(j)}\\bullet x^{(j)}$\n",
    "\n",
    "$b:=$\n",
    "\n",
    "$b_1, if 0 < ai < C$\n",
    "\n",
    "$b_2, if 0 < aj < C$\n",
    "\n",
    "$(b_i + b_j) / 2, otherwise$"
   ]
  },
  {
   "cell_type": "code",
   "execution_count": 3,
   "metadata": {
    "collapsed": true
   },
   "outputs": [],
   "source": [
    "# INIT params\n",
    "a = np.abs(np.random.randn(NUM_DATA))/100\n",
    "b = np.random.randn()\n",
    "i, j = 0, 1\n",
    "\n",
    "def w(a, x, y):\n",
    "    return np.sum(x.T * a * y, axis=1)\n",
    "\n",
    "wij = w(a, x, y)\n",
    "\n",
    "def f(w, xi, b):\n",
    "    return w.dot(xi.T) + b\n",
    "\n",
    "fi = f(wij, x[i], b)\n",
    "\n",
    "def E(w, xi, b, yi):\n",
    "    return f(w, xi, b) - yi\n",
    "\n",
    "Ei, Ej = E(wij, x[i], b, y[i]), E(wij, x[j], b, y[j])\n",
    "\n",
    "def eta(xi, xj):\n",
    "    return 2 * xi.dot(xj) - xi.dot(xi) - xj.dot(xj)\n",
    "\n",
    "etaij = eta(x[i], x[j])\n",
    "\n",
    "def aj(aj0, eta, Ei, Ej, yj):\n",
    "    return aj0 - yj * (Ei - Ej)/eta\n",
    "\n",
    "ajj = aj(a[j], etaij, Ei, Ej, y[j])\n",
    "\n",
    "def clipj(ajj, ai, aj, yi, yj, C=0):\n",
    "    if yi != yj:\n",
    "        L = max(0, aj - ai)\n",
    "        H = min(C, C + aj - ai)\n",
    "    else:\n",
    "        L = max(0, ai + aj - C)\n",
    "        H = min(C, ai + aj)\n",
    "    return np.clip(ajj, L, H)\n",
    "\n",
    "ajj = clipj(ajj, a[i], a[j], y[i], y[j], C)\n",
    "\n",
    "def ai(ai0, yi, yj, aj0, aj):\n",
    "    return ai0 + yi*yj*(aj0-aj)\n",
    "\n",
    "aii = ai(a[i], y[i], y[j], a[j], ajj)\n",
    "\n",
    "def b12(b, Ei, Ej, xi, xj, yi, yj, aii, ajj, ai0, aj0, C=0):\n",
    "    b1 = b - Ei - yi * (aii - ai0) * (xi.dot(xi)) - yi*(ajj-aj0)*(xi.dot(xj))\n",
    "    b2 = b - Ej - yi * (aii - ai0) * (xi.dot(xj)) - yj*(ajj-aj0)*(xj.dot(xj))\n",
    "    c1 = 0 < aii < C\n",
    "    c2 = 0 < ajj < C\n",
    "    if c1 and not c2:\n",
    "        return b1\n",
    "    elif c2 and not c1:\n",
    "        return b2\n",
    "    else:\n",
    "        return (b1 + b2) / 2\n",
    "\n",
    "b = b12(b, Ei, Ej, x[i], x[j], y[i], y[j], aii, ajj, a[i], a[j], C)\n",
    "a[i] = aii\n",
    "a[j] = ajj"
   ]
  },
  {
   "cell_type": "code",
   "execution_count": 4,
   "metadata": {
    "collapsed": true
   },
   "outputs": [],
   "source": [
    "def update(i, j, a, b, x, y):\n",
    "    wij = w(a, x, y)\n",
    "    Ei, Ej = E(wij, x[i], b, y[i]), E(wij, x[j], b, y[j])\n",
    "    etaij = eta(x[i], x[j])\n",
    "    ajj = aj(a[j], etaij, Ei, Ej, y[j])\n",
    "    ajj = clipj(ajj, a[i], a[j], y[i], y[j], C)\n",
    "    aii = ai(a[i], y[i], y[j], a[j], ajj)\n",
    "    \n",
    "    b = b12(b, Ei, Ej, x[i], x[j], y[i], y[j], aii, ajj, a[i], a[j], C)\n",
    "    a[i] = aii\n",
    "    a[j] = ajj\n",
    "    return a, b"
   ]
  },
  {
   "cell_type": "code",
   "execution_count": 5,
   "metadata": {
    "collapsed": true
   },
   "outputs": [],
   "source": [
    "def predict(a, b, x, y):\n",
    "    return np.array(list(map(lambda x: 1 if x >0 else -1, f(w(a, x, y), x, b))))\n",
    "\n",
    "def train(n_iter, a, b, x, y):\n",
    "    population = range(NUM_DATA)\n",
    "    for _ in range(n_iter):\n",
    "        i, j = random.sample(population, 2)\n",
    "        a, b = update(i, j, a, b, x, y)\n",
    "        #print(np.sum(np.equal(predict(a, b, x, y), y)) / NUM_DATA, w(a, x, y), b)\n",
    "    return a, b\n"
   ]
  },
  {
   "cell_type": "code",
   "execution_count": 6,
   "metadata": {
    "scrolled": true
   },
   "outputs": [
    {
     "name": "stdout",
     "output_type": "stream",
     "text": [
      "0.964\n"
     ]
    },
    {
     "data": {
      "text/plain": [
       "<matplotlib.legend.Legend at 0x7f998444c198>"
      ]
     },
     "execution_count": 6,
     "metadata": {},
     "output_type": "execute_result"
    },
    {
     "data": {
      "image/png": "[encoded data removed]",
      "text/plain": [
       "<matplotlib.figure.Figure at 0x7f995e55fbe0>"
      ]
     },
     "metadata": {},
     "output_type": "display_data"
    }
   ],
   "source": [
    "# INIT params\n",
    "C=1\n",
    "a = np.abs(np.random.randn(NUM_DATA))/100\n",
    "b = 0#np.random.randn()\n",
    "a, b = train(1000, a, b, x, y)\n",
    "\n",
    "print(np.sum(np.equal(predict(a, b, x, y), y)) / NUM_DATA)\n",
    "predict(a, b, x, y) \n",
    "\n",
    "\n",
    "\n",
    "\n",
    "\n",
    "\n",
    "\n",
    "w1, w2 = w(a, x, y)\n",
    "threshold = 20\n",
    "x0 = (-b - w2 * (-threshold))/w1\n",
    "x1 = (-b - w2 * threshold)/w1\n",
    "y0 = (-b - w1 * -threshold)/w2\n",
    "y1 = (-b - w1 * threshold)/w2\n",
    "\n",
    "if x0 < -threshold:\n",
    "    xx1 = -threshold\n",
    "    yy1 = y0\n",
    "else:\n",
    "    xx1 = x0\n",
    "    yy1 = -threshold\n",
    "\n",
    "if x1 > threshold:\n",
    "    xx2 = threshold\n",
    "    yy2 = y1\n",
    "else:\n",
    "    xx2 = x1\n",
    "    yy2 = threshold\n",
    "pylab.plot([xx1, xx2], [yy1, yy2], 'k', label='decision boundary')\n",
    "\n",
    "for i, j in zip(x, y):\n",
    "    pylab.plot(i[0], i[1], '.', color='r' if j > 0 else 'b')\n",
    "patch1 = mpatches.Patch(color='r', label='+1')\n",
    "patch2 = mpatches.Patch(color='b', label='-1')\n",
    "pylab.legend(handles=[patch1, patch2])\n"
   ]
  },
  {
   "cell_type": "code",
   "execution_count": 7,
   "metadata": {
    "scrolled": true
   },
   "outputs": [
    {
     "name": "stdout",
     "output_type": "stream",
     "text": [
      "[ 19.2305594   -7.21861262]\n",
      "31.6032171919\n"
     ]
    }
   ],
   "source": [
    "print(w(a, x, y))\n",
    "print(b)"
   ]
  },
  {
   "cell_type": "code",
   "execution_count": null,
   "metadata": {
    "collapsed": true
   },
   "outputs": [],
   "source": []
  }
 ],
 "metadata": {
  "kernelspec": {
   "display_name": "Python [conda root]",
   "language": "python",
   "name": "conda-root-py"
  },
  "language_info": {
   "codemirror_mode": {
    "name": "ipython",
    "version": 3
   },
   "file_extension": ".py",
   "mimetype": "text/x-python",
   "name": "python",
   "nbconvert_exporter": "python",
   "pygments_lexer": "ipython3",
   "version": "3.6.4"
  }
 },
 "nbformat": 4,
 "nbformat_minor": 2
}
